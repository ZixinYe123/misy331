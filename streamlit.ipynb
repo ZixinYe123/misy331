{
 "cells": [
  {
   "cell_type": "code",
   "execution_count": 4,
   "metadata": {},
   "outputs": [],
   "source": [
    "import streamlit as st\n",
    "import pandas as pd\n",
    "import matplotlib.pyplot as plt\n",
    "import numpy as np\n",
    "import seaborn as sns"
   ]
  },
  {
   "cell_type": "code",
   "execution_count": 3,
   "metadata": {},
   "outputs": [],
   "source": [
    "import geopandas as gpd\n",
    "import pydeck as pdk"
   ]
  },
  {
   "cell_type": "code",
   "execution_count": 5,
   "metadata": {},
   "outputs": [
    {
     "name": "stderr",
     "output_type": "stream",
     "text": [
      "2024-09-24 16:32:13.020 WARNING streamlit.runtime.caching.cache_data_api: No runtime found, using MemoryCacheStorageManager\n",
      "2024-09-24 16:32:13.846 \n",
      "  \u001b[33m\u001b[1mWarning:\u001b[0m to view this Streamlit app on a browser, run it with the following\n",
      "  command:\n",
      "\n",
      "    streamlit run c:\\Users\\86152\\anaconda3\\Lib\\site-packages\\ipykernel_launcher.py [ARGUMENTS]\n",
      "2024-09-24 16:32:13.848 No runtime found, using MemoryCacheStorageManager\n"
     ]
    }
   ],
   "source": [
    "@st.cache_data\n",
    "def load_data():\n",
    "  data = pd.read_csv('housing.csv')\n",
    "  return data\n",
    "df = load_data()"
   ]
  },
  {
   "cell_type": "code",
   "execution_count": 6,
   "metadata": {},
   "outputs": [
    {
     "data": {
      "text/plain": [
       "DeltaGenerator()"
      ]
     },
     "execution_count": 6,
     "metadata": {},
     "output_type": "execute_result"
    }
   ],
   "source": [
    "st.title('California Housing Data(1990) by Zixin Ye')\n",
    "min_house_value = st.slider(\"Minimal Median House Value\", 0, 500001, 200000)\n",
    "\n",
    "with st.sidebar:\n",
    "    # 多选控件：选择房屋的地理位置类型\n",
    "    location_types = df['ocean_proximity'].unique().tolist()  # 获取所有位置类型\n",
    "    selected_location_types = st.multiselect(\"Choose the location type\", location_types, default=location_types)\n",
    "\n",
    "    # 单选按钮：选择收入等级\n",
    "    income_level = st.radio(\n",
    "        \"Choose income level\",\n",
    "        (\"Low\", \"Medium\", \"High\")\n",
    "    )\n",
    "\n",
    "# 根据收入等级过滤数据\n",
    "if income_level == \"Low \":\n",
    "    filtered_df = df[df['median_income'] <= 2.5]\n",
    "elif income_level == \"Medium \":\n",
    "    filtered_df = df[(df['median_income'] > 2.5) & (df['median_income'] < 4.5)]\n",
    "else:\n",
    "    filtered_df = df[df['median_income'] > 4.5]\n",
    "\n",
    "# 进一步根据用户选择的房价和位置类型过滤数据\n",
    "filtered_df = filtered_df[\n",
    "    (filtered_df['median_house_value'] >= min_house_value) &\n",
    "    (filtered_df['ocean_proximity'].isin(selected_location_types))\n",
    "]\n",
    "\n",
    "layer = pdk.Layer(\n",
    "    \"ScatterplotLayer\",\n",
    "    data=filtered_df,\n",
    "    get_position='[longitude, latitude]',\n",
    "    get_radius=100,\n",
    "    get_color='[200, 30, 0, 160]',\n",
    "    pickable=True\n",
    ")\n",
    "\n",
    "# 设置地图的视角\n",
    "view_state = pdk.ViewState(\n",
    "    latitude=filtered_df[\"latitude\"].mean(),\n",
    "    longitude=filtered_df[\"longitude\"].mean(),\n",
    "    zoom=6,\n",
    "    pitch=0\n",
    ")\n",
    "\n",
    "# 渲染地图\n",
    "st.pydeck_chart(pdk.Deck(layers=[layer], initial_view_state=view_state))\n",
    "\n",
    "\n",
    "# 绘制房屋中位价格的直方图\n",
    "st.subheader(\"Histogram of Median House Values\")\n",
    "fig, ax = plt.subplots(figsize=(10, 6))\n",
    "\n",
    "# 设置Seaborn样式\n",
    "sns.set(style=\"whitegrid\")\n",
    "\n",
    "# 绘制直方图\n",
    "ax.hist(filtered_df['median_house_value'], bins=30, edgecolor='black')\n",
    "ax.set_xlabel(\"Median House Value\")\n",
    "ax.set_ylabel(\"Number of Houses\")\n",
    "\n",
    "# 显示图表\n",
    "st.pyplot(fig)\n"
   ]
  }
 ],
 "metadata": {
  "kernelspec": {
   "display_name": "base",
   "language": "python",
   "name": "python3"
  },
  "language_info": {
   "codemirror_mode": {
    "name": "ipython",
    "version": 3
   },
   "file_extension": ".py",
   "mimetype": "text/x-python",
   "name": "python",
   "nbconvert_exporter": "python",
   "pygments_lexer": "ipython3",
   "version": "3.12.4"
  }
 },
 "nbformat": 4,
 "nbformat_minor": 2
}
